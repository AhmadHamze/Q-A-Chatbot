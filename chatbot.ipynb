{
 "cells": [
  {
   "cell_type": "code",
   "execution_count": 16,
   "id": "2df3c9ab-f99d-4a1b-ade6-1f5d0292e1f8",
   "metadata": {},
   "outputs": [],
   "source": [
    "from datasets import load_dataset\n",
    "from sklearn.feature_extraction.text import TfidfVectorizer\n",
    "from sklearn.metrics.pairwise import cosine_similarity\n",
    "import numpy as np\n",
    "from openai import OpenAI"
   ]
  },
  {
   "cell_type": "code",
   "execution_count": 17,
   "id": "b80e4b30",
   "metadata": {},
   "outputs": [],
   "source": [
    "from project_secrets import GPT_4o_API_KEY"
   ]
  },
  {
   "cell_type": "code",
   "execution_count": 18,
   "id": "749a097b",
   "metadata": {},
   "outputs": [],
   "source": [
    "GPT_4o_MODEL = \"openai/gpt-4o-mini\"\n",
    "client_4o = OpenAI(base_url=\"https://openrouter.ai/api/v1\", api_key=GPT_4o_API_KEY)"
   ]
  },
  {
   "cell_type": "code",
   "execution_count": 2,
   "id": "de53eb13-aa1c-4e1d-82b4-ff895e76a701",
   "metadata": {},
   "outputs": [],
   "source": [
    "ds = load_dataset(\"ruslanmv/ai-medical-chatbot\")"
   ]
  },
  {
   "cell_type": "code",
   "execution_count": 3,
   "id": "afecf80d-0945-40f7-b321-6479f1b960b9",
   "metadata": {},
   "outputs": [
    {
     "data": {
      "text/plain": [
       "'Q. What does abutment of the nerve root mean?'"
      ]
     },
     "execution_count": 3,
     "metadata": {},
     "output_type": "execute_result"
    }
   ],
   "source": [
    "ds[\"train\"][0][\"Description\"]"
   ]
  },
  {
   "cell_type": "code",
   "execution_count": 4,
   "id": "8191289b-be09-4c9c-bac3-6a6aee21a056",
   "metadata": {},
   "outputs": [
    {
     "data": {
      "text/plain": [
       "[('Hi doctor,I am just wondering what is abutting and abutment of the nerve root means in a back issue. Please explain. What treatment is required for\\xa0annular bulging and tear?',\n",
       "  'Hi. I have gone through your query with diligence and would like you to know that I am here to help you. For further information consult a neurologist online -->'),\n",
       " ('Hi doctor, I am a 22-year-old female who was diagnosed with hypothyroidism (genetic) when I was 12. Over the past five years, I have become around 50 pounds overweight and all of my attempts to lose have seemed to fail so I have given up, but my weight has stayed the same. There is so much information put there about losing weight with hypothyroidism but it all seems to conflict. I am so unsure as to what type of exercise and diet I should follow as a result but I still would like to lose weight, but most importantly have my body feel better. What can I do? I am currently on Levothyroxine, Buspar, and Benedryl.',\n",
       "  'Hi. You have really done well with the hypothyroidism problem. Your levels are normal with less medications which are very good. As it is genetically induced, it is very difficult to lose weight. My advice to you is, you should focus on maintaining normal levels of TSH (thyroid-stimulating hormone) and try to remain active, having a positive outlook in life. Or else, it will become very difficult to balance your life with the symptoms of hypothyroidism. Even though your weight has not reduced, be very careful in not putting on weight here afterward. Everyday brisk walking for 1 hour. If you have body pain, alternate with exercises and walking. Avoid all kinds of junk foods, processed, bakery products, rich sweets, fatty foods, sodas, alcohol, and smoking. Avoid partying and binge eating. Follow the food timings properly. Have small frequent meals. In between snacks should be strictly fruits or any kind of low-calorie foods. Have unsalted nuts around five daily. It can give a glow to your dry skin. Everyday water intake should be around 1.5-2 liters. You can use flax seeds. Powder it and mix it in your food. It is a fiber which will give you fullness. Use turmeric, fenugreek seeds, or powder every day. It is a good antioxidant and fenugreek helps in reducing cholesterol levels. Include low-fat milk, curd every day. Egg white, lean chicken, or fish can be taken daily in moderation (anyone). Organ meats need to be avoided. Is your menstrual cycle normal? Please get back if you have any other complaints. Follow up after 15 days.'),\n",
       " (\"Hi doctor! I used to have clear skin but since I moved to a new place, I started to have lots of acne on my face particularly on my forehead. I thought it would disappear once I went back home, but it only got worse. I did some research and assumed that it was caused by drinking too much cow's milk, but it has been since since I stopped and they would still not go away. I also noticed that I get deep acne whenever I'm nearing my period, along with the usual small red bumps. I bought an acne soap and have been using it for a month now but I'm not sure if it works. I hope you can help me because it has been affecting my mental state lately :((((\",\n",
       "  'Hi there Acne has multifactorial etiology. Only acne soap does not improve if ypu have grade 2 or more grade acne. You need to have oral and topical medications. This before writing medicines i need to confirm your grade of acne. For mild grade topical clindamycin or retenoic acud derivative would suffice whereas for higher grade acne you need oral medicines aluke doxycycline azithromycin or isotretinoin. Acne vulgaris Cleansing face with antiacne face wash')]"
      ]
     },
     "execution_count": 4,
     "metadata": {},
     "output_type": "execute_result"
    }
   ],
   "source": [
    "qa_pairs = [(entry[\"Patient\"], entry[\"Doctor\"]) for entry in ds[\"train\"]]\n",
    "\n",
    "qa_pairs[:3]"
   ]
  },
  {
   "cell_type": "code",
   "execution_count": 6,
   "id": "c3f5f435",
   "metadata": {},
   "outputs": [],
   "source": [
    "questions, answers = zip(*qa_pairs)"
   ]
  },
  {
   "cell_type": "code",
   "execution_count": 9,
   "id": "184fc13a",
   "metadata": {},
   "outputs": [],
   "source": [
    "vectorizer = TfidfVectorizer()\n",
    "question_vectors = vectorizer.fit_transform(questions)"
   ]
  },
  {
   "cell_type": "code",
   "execution_count": 10,
   "id": "cb603190",
   "metadata": {},
   "outputs": [],
   "source": [
    "def find_best_match(user_input):\n",
    "    user_vector = vectorizer.transform([user_input])  # Vectorize user input\n",
    "    similarities = cosine_similarity(user_vector, question_vectors)  # Compute similarities\n",
    "    best_match_idx = np.argmax(similarities)  # Get index of highest similarity\n",
    "    return answers[best_match_idx]  # Return corresponding doctor's response"
   ]
  },
  {
   "cell_type": "code",
   "execution_count": 13,
   "id": "007c7879",
   "metadata": {},
   "outputs": [
    {
     "name": "stdout",
     "output_type": "stream",
     "text": [
      "Chatbot: your symptoms shows there is no fracture but we can't conclude completely but looks like peroneal muscle group strain.. just ice is putter side of leg from below the knee till the feet. support the alkle with a bandage or tape..\n"
     ]
    }
   ],
   "source": [
    "user_input = \"Hi doctor, I fell on the ground and twisted my ankle. It is swollen and painful. What should I do?\"\n",
    "response = find_best_match(user_input)\n",
    "print(\"Chatbot:\", response)"
   ]
  },
  {
   "cell_type": "code",
   "execution_count": 22,
   "id": "7415ee4e",
   "metadata": {},
   "outputs": [],
   "source": [
    "def medical_chatbot(user_input):\n",
    "    similar_qa = find_best_match(user_input)\n",
    "    response = client_4o.chat.completions.create(\n",
    "        model=GPT_4o_MODEL,\n",
    "        messages=[\n",
    "            {\n",
    "                \"role\": \"system\", \"content\": (\n",
    "                \"You are a medical professional. Use the following similar Q&A example to inform your response, \"\n",
    "                \"but adapt it appropriately for the new question.\"\n",
    "                )\n",
    "            },\n",
    "            {\n",
    "                \"role\": \"user\", \"content\": (\n",
    "                    f\"Similar Q&A example:\\nPatient Question: {user_input}\\n\"\n",
    "                    f\"Doctor's Response: {similar_qa}\\n\\nNew patient question: {user_input}\"\n",
    "                    )\n",
    "            }\n",
    "        ],\n",
    "        temperature=0.7\n",
    "    )\n",
    "    return response.choices[0].message.content"
   ]
  },
  {
   "cell_type": "code",
   "execution_count": 24,
   "id": "23836bf7",
   "metadata": {},
   "outputs": [
    {
     "name": "stdout",
     "output_type": "stream",
     "text": [
      "Chatbot: Doctor's Response: It sounds like you may have a sprain or strain in your ankle. While I can't diagnose without an examination, the swelling and pain you're experiencing are common symptoms. I recommend that you follow the R.I.C.E. method: Rest your ankle, Ice it to reduce swelling, Compress it with a bandage, and Elevate it above heart level when possible. If the pain persists, or if you are unable to put weight on it, I would advise you to see a healthcare professional for a thorough evaluation to rule out any fractures.\n"
     ]
    }
   ],
   "source": [
    "user_query = \"Hi doctor, I fell on the ground and twisted my ankle. It is swollen and painful. What should I do?\"\n",
    "ai_response = medical_chatbot(user_query)\n",
    "print(\"Chatbot:\", ai_response)"
   ]
  },
  {
   "cell_type": "code",
   "execution_count": null,
   "id": "4fbc71d8",
   "metadata": {},
   "outputs": [],
   "source": []
  }
 ],
 "metadata": {
  "kernelspec": {
   "display_name": "env",
   "language": "python",
   "name": "python3"
  },
  "language_info": {
   "codemirror_mode": {
    "name": "ipython",
    "version": 3
   },
   "file_extension": ".py",
   "mimetype": "text/x-python",
   "name": "python",
   "nbconvert_exporter": "python",
   "pygments_lexer": "ipython3",
   "version": "3.12.9"
  }
 },
 "nbformat": 4,
 "nbformat_minor": 5
}
