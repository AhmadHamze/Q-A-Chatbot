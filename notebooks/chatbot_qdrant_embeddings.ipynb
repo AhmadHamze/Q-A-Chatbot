{
 "cells": [
  {
   "cell_type": "code",
   "execution_count": null,
   "id": "e7c48cc8",
   "metadata": {},
   "outputs": [],
   "source": [
    "!pip install datasets\n",
    "!pip install sentence_transformers\n",
    "!pip install scikit-learn\n",
    "!pip install qdrant-client sentence-transformers"
   ]
  },
  {
   "cell_type": "code",
   "execution_count": null,
   "id": "d675f8c0",
   "metadata": {},
   "outputs": [],
   "source": [
    "from datasets import load_dataset\n",
    "from sentence_transformers import SentenceTransformer\n",
    "import numpy as np\n",
    "from google.colab import userdata\n",
    "from qdrant_client import QdrantClient\n",
    "from qdrant_client.http import models\n",
    "from tqdm import tqdm\n",
    "import uuid"
   ]
  },
  {
   "cell_type": "code",
   "execution_count": null,
   "id": "ddd0d185",
   "metadata": {},
   "outputs": [],
   "source": [
    "ds = load_dataset(\"ruslanmv/ai-medical-chatbot\")"
   ]
  },
  {
   "cell_type": "code",
   "execution_count": null,
   "id": "325187d3",
   "metadata": {},
   "outputs": [],
   "source": [
    "ds[\"train\"][0][\"Description\"]"
   ]
  },
  {
   "cell_type": "code",
   "execution_count": null,
   "id": "6d1115f8",
   "metadata": {},
   "outputs": [],
   "source": [
    "qa_pairs = [(entry[\"Patient\"], entry[\"Doctor\"]) for entry in ds[\"train\"]]\n",
    "questions, answers = zip(*qa_pairs)"
   ]
  },
  {
   "cell_type": "code",
   "execution_count": null,
   "id": "169b0a3f",
   "metadata": {},
   "outputs": [],
   "source": [
    "# Initialize model with GPU\n",
    "embed_model = SentenceTransformer(\"all-MiniLM-L6-v2\", device=\"cuda\")"
   ]
  },
  {
   "cell_type": "code",
   "execution_count": null,
   "id": "d43a69a9",
   "metadata": {},
   "outputs": [],
   "source": [
    "# ---- Config ----\n",
    "QDRANT_HOST = userdata.get(\"QDRANT_HOST\")\n",
    "QDRANT_API_KEY = userdata.get(\"QDRANT_API_KEY\")\n",
    "COLLECTION_NAME = \"ruslanmv-ai-medical-chatbot\""
   ]
  },
  {
   "cell_type": "code",
   "execution_count": null,
   "id": "4f11df1a",
   "metadata": {},
   "outputs": [],
   "source": [
    "# ---- Initialize Qdrant Client ----\n",
    "client = QdrantClient(\n",
    "    url=QDRANT_HOST,\n",
    "    api_key=QDRANT_API_KEY,\n",
    ")"
   ]
  },
  {
   "cell_type": "code",
   "execution_count": null,
   "id": "c930add6",
   "metadata": {},
   "outputs": [],
   "source": [
    "# ---- Create Collection ----\n",
    "if not client.collection_exists(collection_name=COLLECTION_NAME):\n",
    "    print(\"Creating collection\", COLLECTION_NAME)\n",
    "    client.create_collection(\n",
    "        collection_name=COLLECTION_NAME,\n",
    "        vectors_config=models.VectorParams(\n",
    "            size=384,  # Depends on your embedding model, all-MiniLM-L6-v2 is a 384 dimensional dense vector space\n",
    "            distance=models.Distance.COSINE\n",
    "        )\n",
    "    )\n",
    "else:\n",
    "    print(\"Collection already exists\")"
   ]
  },
  {
   "cell_type": "code",
   "execution_count": null,
   "id": "d8fcb465",
   "metadata": {},
   "outputs": [],
   "source": [
    "# Process embeddings in batches\n",
    "batch_size = 64  # Larger batch size for GPU\n",
    "question_embeddings = embed_model.encode(\n",
    "    questions,\n",
    "    batch_size=batch_size,\n",
    "    convert_to_numpy=True,\n",
    "    show_progress_bar=True,\n",
    "    device=\"cuda\"\n",
    ")"
   ]
  },
  {
   "cell_type": "code",
   "execution_count": null,
   "id": "56fd5725",
   "metadata": {},
   "outputs": [],
   "source": [
    "# Upload to Qdrant\n",
    "\n",
    "for i in tqdm(range(0, len(questions), batch_size)):\n",
    "    batch_questions = questions[i : i + batch_size]\n",
    "    batch_vectors = question_embeddings[i : i + batch_size]\n",
    "\n",
    "    points_batch = [\n",
    "        models.PointStruct(\n",
    "            id=str(uuid.uuid4()),\n",
    "            vector=batch_vectors[j],\n",
    "            payload={\"question\": batch_questions[j]}\n",
    "            )\n",
    "        for j in range(len(batch_questions))\n",
    "    ]\n",
    "    client.upsert(\n",
    "        collection_name=COLLECTION_NAME,\n",
    "        points=points_batch,\n",
    "    )"
   ]
  }
 ],
 "metadata": {
  "kernelspec": {
   "display_name": "env",
   "language": "python",
   "name": "python3"
  },
  "language_info": {
   "name": "python",
   "version": "3.12.10"
  }
 },
 "nbformat": 4,
 "nbformat_minor": 5
}
