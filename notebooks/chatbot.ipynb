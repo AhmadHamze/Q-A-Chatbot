{
 "cells": [
  {
   "cell_type": "code",
   "execution_count": null,
   "id": "2df3c9ab-f99d-4a1b-ade6-1f5d0292e1f8",
   "metadata": {},
   "outputs": [
    {
     "name": "stderr",
     "output_type": "stream",
     "text": [
      "/home/ahmad/projects/Q-A-Chatbot/env/lib/python3.12/site-packages/tqdm/auto.py:21: TqdmWarning: IProgress not found. Please update jupyter and ipywidgets. See https://ipywidgets.readthedocs.io/en/stable/user_install.html\n",
      "  from .autonotebook import tqdm as notebook_tqdm\n"
     ]
    }
   ],
   "source": [
    "from datasets import load_dataset\n",
    "from sentence_transformers import SentenceTransformer\n",
    "import faiss\n",
    "import numpy as np\n",
    "from openai import OpenAI\n",
    "from tqdm.auto import tqdm"
   ]
  },
  {
   "cell_type": "code",
   "execution_count": 2,
   "id": "b80e4b30",
   "metadata": {},
   "outputs": [],
   "source": [
    "from project_secrets import GPT_4o_API_KEY"
   ]
  },
  {
   "cell_type": "code",
   "execution_count": 3,
   "id": "749a097b",
   "metadata": {},
   "outputs": [],
   "source": [
    "GPT_4o_MODEL = \"openai/gpt-4o-mini\"\n",
    "client_4o = OpenAI(base_url=\"https://openrouter.ai/api/v1\", api_key=GPT_4o_API_KEY)"
   ]
  },
  {
   "cell_type": "code",
   "execution_count": 4,
   "id": "de53eb13-aa1c-4e1d-82b4-ff895e76a701",
   "metadata": {},
   "outputs": [],
   "source": [
    "ds = load_dataset(\"ruslanmv/ai-medical-chatbot\")"
   ]
  },
  {
   "cell_type": "code",
   "execution_count": 5,
   "id": "afecf80d-0945-40f7-b321-6479f1b960b9",
   "metadata": {},
   "outputs": [
    {
     "data": {
      "text/plain": [
       "'Q. What does abutment of the nerve root mean?'"
      ]
     },
     "execution_count": 5,
     "metadata": {},
     "output_type": "execute_result"
    }
   ],
   "source": [
    "ds[\"train\"][0][\"Description\"]"
   ]
  },
  {
   "cell_type": "code",
   "execution_count": 6,
   "id": "8191289b-be09-4c9c-bac3-6a6aee21a056",
   "metadata": {},
   "outputs": [],
   "source": [
    "qa_pairs = [(entry[\"Patient\"], entry[\"Doctor\"]) for entry in ds[\"train\"]]"
   ]
  },
  {
   "cell_type": "code",
   "execution_count": 7,
   "id": "c3f5f435",
   "metadata": {},
   "outputs": [],
   "source": [
    "questions, answers = zip(*qa_pairs)"
   ]
  },
  {
   "cell_type": "code",
   "execution_count": 8,
   "id": "f2dfdf06",
   "metadata": {},
   "outputs": [],
   "source": [
    "embed_model = SentenceTransformer(\"all-MiniLM-L6-v2\")  # Fast and effective"
   ]
  },
  {
   "cell_type": "code",
   "execution_count": null,
   "id": "f7ce8e1b",
   "metadata": {},
   "outputs": [],
   "source": [
    "\n",
    "# ! Do not run this cell unless you want to rebuild question_embeddings locally\n",
    "# Process in batches\n",
    "batch_size = 32\n",
    "question_embeddings = []\n",
    "\n",
    "for i in tqdm(range(0, len(questions), batch_size)):\n",
    "    batch = questions[i:i + batch_size]\n",
    "    batch_embeddings = embed_model.encode(batch, convert_to_numpy=True, show_progress_bar=True)\n",
    "    question_embeddings.append(batch_embeddings)\n",
    "\n",
    "question_embeddings = np.vstack(question_embeddings)"
   ]
  },
  {
   "cell_type": "code",
   "execution_count": 9,
   "id": "0b19451e",
   "metadata": {},
   "outputs": [],
   "source": [
    "\n",
    "# * This file comes from Google Colab, it was created there by training the model\n",
    "# * Training the model is much faster on a GPU, which is provided by Colab\n",
    "# * Check the Colab file here https://colab.research.google.com/drive/1CLJa_T4toHeJRUJLxvirTtHJX8jM5iQh#scrollTo=vv96--PO3zFt\n",
    "question_embeddings = np.load('question_embeddings_gpu.npy')"
   ]
  },
  {
   "cell_type": "code",
   "execution_count": 10,
   "id": "184fc13a",
   "metadata": {},
   "outputs": [],
   "source": [
    "# Store embeddings in FAISS for fast retrieval\n",
    "dimension = question_embeddings.shape[1]\n",
    "index = faiss.IndexFlatL2(dimension)\n",
    "index.add(question_embeddings)"
   ]
  },
  {
   "cell_type": "code",
   "execution_count": 11,
   "id": "cb603190",
   "metadata": {},
   "outputs": [],
   "source": [
    "def retrieve_context(user_query, top_k=3):\n",
    "    \"\"\"Finds the most relevant stored questions and their answers\"\"\"\n",
    "    query_embedding = embed_model.encode([user_query], convert_to_numpy=True)\n",
    "    _, indices = index.search(query_embedding, top_k)\n",
    "    \n",
    "    retrieved_context = \"\\n\\n\".join([f\"Patient: {questions[i]}\\nDoctor: {answers[i]}\" for i in indices[0]])\n",
    "    return retrieved_context"
   ]
  },
  {
   "cell_type": "code",
   "execution_count": 12,
   "id": "7415ee4e",
   "metadata": {},
   "outputs": [],
   "source": [
    "def medical_chatbot(user_query):\n",
    "    \"\"\"Uses OpenAI's GPT-4 to generate a response with retrieved context\"\"\"\n",
    "    retrieved_info = retrieve_context(user_query)\n",
    "    prompt = f\"\"\"\n",
    "    You are a helpful and professional medical chatbot. Below is past conversation data:\n",
    "\n",
    "    {retrieved_info}\n",
    "\n",
    "    Now answer the following question in a helpful and concise manner:\n",
    "    Patient: {user_query}\n",
    "    Doctor:\n",
    "    \"\"\"\n",
    "    response = client_4o.chat.completions.create(\n",
    "        model=GPT_4o_MODEL,\n",
    "        messages=[\n",
    "            {\n",
    "                \"role\": \"system\", \"content\": \"You are a medical chatbot.\"\n",
    "            },\n",
    "            {\n",
    "                \"role\": \"user\", \"content\": prompt\n",
    "            }\n",
    "        ],\n",
    "        temperature=0.7\n",
    "    )\n",
    "    return response.choices[0].message.content"
   ]
  },
  {
   "cell_type": "code",
   "execution_count": 13,
   "id": "23836bf7",
   "metadata": {},
   "outputs": [
    {
     "name": "stdout",
     "output_type": "stream",
     "text": [
      "Chatbot: Hello. Bleeding from one nostril, especially if it occurred while you were sleeping and without any trauma, is often not a cause for concern. Common reasons for such bleeding can include dryness in the nasal passages, nasal irritation, or even minor injuries from sleeping positions. However, if the bleeding continues, is accompanied by other symptoms (like frequent nosebleeds, headaches, or dizziness), or if you have any concerns, it might be a good idea to consult a healthcare professional for further evaluation. Stay hydrated and consider using a humidifier if you are in a dry environment. Take care!\n"
     ]
    }
   ],
   "source": [
    "user_query = \"Last night, I bled from one nostril. I wasn't hit or anything, I was sleeping on my stomach. Should I be worried?\"\n",
    "ai_response = medical_chatbot(user_query)\n",
    "print(\"Chatbot:\", ai_response)"
   ]
  }
 ],
 "metadata": {
  "kernelspec": {
   "display_name": "env",
   "language": "python",
   "name": "python3"
  },
  "language_info": {
   "codemirror_mode": {
    "name": "ipython",
    "version": 3
   },
   "file_extension": ".py",
   "mimetype": "text/x-python",
   "name": "python",
   "nbconvert_exporter": "python",
   "pygments_lexer": "ipython3",
   "version": "3.12.9"
  }
 },
 "nbformat": 4,
 "nbformat_minor": 5
}
